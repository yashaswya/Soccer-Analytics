{
  "nbformat": 4,
  "nbformat_minor": 0,
  "metadata": {
    "colab": {
      "name": "football_pitch.ipynb",
      "provenance": [],
      "collapsed_sections": []
    },
    "kernelspec": {
      "name": "python3",
      "display_name": "Python 3"
    }
  },
  "cells": [
    {
      "cell_type": "code",
      "metadata": {
        "id": "dh40H-wDXpPo"
      },
      "source": [
        "import matplotlib.pyplot as plt\r\n",
        "from matplotlib.patches import Arc"
      ],
      "execution_count": 1,
      "outputs": []
    },
    {
      "cell_type": "code",
      "metadata": {
        "colab": {
          "base_uri": "https://localhost:8080/",
          "height": 265
        },
        "id": "s1b4fI3XYqSF",
        "outputId": "91499e93-38ec-4104-e70a-e756f0d8da26"
      },
      "source": [
        "fig=plt.figure()\r\n",
        "ax=fig.add_subplot(1,1,1)\r\n",
        "\r\n",
        "plt.plot([0,0],[0,90],color = 'red')\r\n",
        "plt.plot([0,130],[90,90], color='red')\r\n",
        "plt.plot([0,130],[0,0],color='red')\r\n",
        "plt.plot([130,130],[0,90],color='red')\r\n",
        "plt.plot([65,65],[0,90],color='red')\r\n",
        "\r\n",
        "plt.show()"
      ],
      "execution_count": 9,
      "outputs": [
        {
          "output_type": "display_data",
          "data": {
            "image/png": "[encoded data removed]",
            "text/plain": [
              "<Figure size 432x288 with 1 Axes>"
            ]
          },
          "metadata": {
            "tags": [],
            "needs_background": "light"
          }
        }
      ]
    },
    {
      "cell_type": "code",
      "metadata": {
        "colab": {
          "base_uri": "https://localhost:8080/",
          "height": 265
        },
        "id": "lW_a_3z0ZpMi",
        "outputId": "fee29958-7a32-4ff9-ebd0-cf83eee28f1e"
      },
      "source": [
        "fig=plt.figure()\r\n",
        "ax=fig.add_subplot(1,1,1)\r\n",
        "\r\n",
        "plt.plot([0,0],[0,90],color = 'red')\r\n",
        "plt.plot([0,130],[90,90], color='red')\r\n",
        "plt.plot([0,130],[0,0],color='red')\r\n",
        "plt.plot([130,130],[0,90],color='red')\r\n",
        "plt.plot([65,65],[0,90],color='red')\r\n",
        "center_circle = plt.Circle((65,45),9.15,color='red',fill=False)\r\n",
        "center_spot = plt.Circle((65,45),0.8,color='red')\r\n",
        "\r\n",
        "ax.add_patch(center_circle)\r\n",
        "ax.add_patch(center_spot)\r\n",
        "\r\n",
        "plt.show()"
      ],
      "execution_count": 10,
      "outputs": [
        {
          "output_type": "display_data",
          "data": {
            "image/png": "[encoded data removed]",
            "text/plain": [
              "<Figure size 432x288 with 1 Axes>"
            ]
          },
          "metadata": {
            "tags": [],
            "needs_background": "light"
          }
        }
      ]
    },
    {
      "cell_type": "code",
      "metadata": {
        "id": "81jFfMtndMQ_"
      },
      "source": [
        "def createPitch():\r\n",
        "    \r\n",
        "    # From FCPython\r\n",
        "\r\n",
        "    #Create figure\r\n",
        "    fig=plt.figure()\r\n",
        "    ax=fig.add_subplot(1,1,1)\r\n",
        "\r\n",
        "    #Pitch Outline & Centre Line\r\n",
        "    plt.plot([0,0],[0,90], color=\"red\")\r\n",
        "    plt.plot([0,130],[90,90], color=\"red\")\r\n",
        "    plt.plot([130,130],[90,0], color=\"red\")\r\n",
        "    plt.plot([130,0],[0,0], color=\"red\")\r\n",
        "    plt.plot([65,65],[0,90], color=\"red\")\r\n",
        "    \r\n",
        "    #Left Penalty Area\r\n",
        "    plt.plot([16.5,16.5],[65,25],color=\"red\")\r\n",
        "    plt.plot([0,16.5],[65,65],color=\"red\")\r\n",
        "    plt.plot([16.5,0],[25,25],color=\"red\")\r\n",
        "    \r\n",
        "    #Right Penalty Area\r\n",
        "    plt.plot([130,113.5],[65,65],color=\"red\")\r\n",
        "    plt.plot([113.5,113.5],[65,25],color=\"red\")\r\n",
        "    plt.plot([113.5,130],[25,25],color=\"red\")\r\n",
        "    \r\n",
        "    #Left 6-yard Box\r\n",
        "    plt.plot([0,5.5],[54,54],color=\"red\")\r\n",
        "    plt.plot([5.5,5.5],[54,36],color=\"red\")\r\n",
        "    plt.plot([5.5,0.5],[36,36],color=\"red\")\r\n",
        "    \r\n",
        "    #Right 6-yard Box\r\n",
        "    plt.plot([130,124.5],[54,54],color=\"red\")\r\n",
        "    plt.plot([124.5,124.5],[54,36],color=\"red\")\r\n",
        "    plt.plot([124.5,130],[36,36],color=\"red\")\r\n",
        "    \r\n",
        "    #Prepare Circles\r\n",
        "    centreCircle = plt.Circle((65,45),9.15,color=\"red\",fill=False)\r\n",
        "    centreSpot = plt.Circle((65,45),0.8,color=\"red\")\r\n",
        "    # leftPenSpot = plt.Circle((11,45),0.8,color=\"red\")\r\n",
        "    # rightPenSpot = plt.Circle((119,45),0.8,color=\"red\")\r\n",
        "    \r\n",
        "    #Draw Circles\r\n",
        "    ax.add_patch(centreCircle)\r\n",
        "    ax.add_patch(centreSpot)\r\n",
        "    # ax.add_patch(leftPenSpot)\r\n",
        "    # ax.add_patch(rightPenSpot)\r\n",
        "    \r\n",
        "    #Prepare Arcs\r\n",
        "    leftArc = Arc((11,45),height=18.3,width=18.3,angle=0,theta1=310,theta2=50,color=\"red\")\r\n",
        "    rightArc = Arc((119,45),height=18.3,width=18.3,angle=0,theta1=130,theta2=230,color=\"red\")\r\n",
        "\r\n",
        "    #Draw Arcs\r\n",
        "    ax.add_patch(leftArc)\r\n",
        "    ax.add_patch(rightArc)\r\n",
        "    \r\n",
        "    #Tidy Axes\r\n",
        "    plt.axis('off')\r\n",
        "    \r\n",
        "    #Display Pitch\r\n",
        "    plt.show()"
      ],
      "execution_count": 13,
      "outputs": []
    },
    {
      "cell_type": "code",
      "metadata": {
        "colab": {
          "base_uri": "https://localhost:8080/",
          "height": 248
        },
        "id": "HzF_khZjfinD",
        "outputId": "24d0a0d1-320b-4c89-aa51-00431c1e7094"
      },
      "source": [
        "createPitch()"
      ],
      "execution_count": 14,
      "outputs": [
        {
          "output_type": "display_data",
          "data": {
            "image/png": "[encoded data removed]",
            "text/plain": [
              "<Figure size 432x288 with 1 Axes>"
            ]
          },
          "metadata": {
            "tags": [],
            "needs_background": "light"
          }
        }
      ]
    },
    {
      "cell_type": "code",
      "metadata": {
        "colab": {
          "base_uri": "https://localhost:8080/"
        },
        "id": "oFsu5zxKfmKe",
        "outputId": "aa3cebb6-8891-42b5-e6c5-348047692988"
      },
      "source": [
        "!pip install mplsoccer"
      ],
      "execution_count": 15,
      "outputs": [
        {
          "output_type": "stream",
          "text": [
            "Collecting mplsoccer\n",
            "  Downloading https://files.pythonhosted.org/packages/52/fb/8e35a185a3831ceece749839c829d0bc9ff7b84643a2a6a1acb05e608ede/mplsoccer-0.0.21.tar.gz\n",
            "Building wheels for collected packages: mplsoccer\n",
            "  Building wheel for mplsoccer (setup.py) ... \u001b[?25l\u001b[?25hdone\n",
            "  Created wheel for mplsoccer: filename=mplsoccer-0.0.21-cp36-none-any.whl size=32700 sha256=058e2e34958cdbfa04dcec79acbfffe3c00971549ebd81024c673d84f53dd2b5\n",
            "  Stored in directory: /root/.cache/pip/wheels/b4/c3/eb/77c9eb9fd22579e5df94e53c2276e98c57bfc2b73eb4c94281\n",
            "Successfully built mplsoccer\n",
            "Installing collected packages: mplsoccer\n",
            "Successfully installed mplsoccer-0.0.21\n"
          ],
          "name": "stdout"
        }
      ]
    },
    {
      "cell_type": "code",
      "metadata": {
        "colab": {
          "base_uri": "https://localhost:8080/",
          "height": 297
        },
        "id": "-dIVVTzJgNmp",
        "outputId": "63a5c5c3-c89a-4575-d8e8-1ab478771e06"
      },
      "source": [
        "from mplsoccer.pitch import Pitch\r\n",
        "pitch = Pitch(pitch_color='black', line_color='red')\r\n",
        "fig, ax = pitch.draw()"
      ],
      "execution_count": 20,
      "outputs": [
        {
          "output_type": "display_data",
          "data": {
            "image/png": "[encoded data removed]",
            "text/plain": [
              "<Figure size 432x288 with 1 Axes>"
            ]
          },
          "metadata": {
            "tags": []
          }
        }
      ]
    },
    {
      "cell_type": "code",
      "metadata": {
        "id": "_dOonPg8gbuB"
      },
      "source": [
        ""
      ],
      "execution_count": null,
      "outputs": []
    }
  ]
}